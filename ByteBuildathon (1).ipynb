{
 "cells": [
  {
   "cell_type": "code",
   "execution_count": 11,
   "id": "6672c572-d355-4e5b-b87d-5fa455081793",
   "metadata": {},
   "outputs": [],
   "source": [
    "import pandas as pd\n",
    "import numpy as np\n",
    "import sklearn\n",
    "import matplotlib\n",
    "from sklearn.pipeline import Pipeline\n",
    "from sklearn.model_selection import train_test_split, GridSearchCV\n",
    "import scipy.stats as stats\n",
    "\n",
    "import matplotlib.pyplot as plt\n",
    "import seaborn as sns\n",
    "from sklearn.ensemble import RandomForestClassifier,GradientBoostingClassifier\n",
    "from sklearn.model_selection import train_test_split\n",
    "from sklearn.metrics import accuracy_score\n",
    "from sklearn.model_selection import cross_val_score\n",
    "\n",
    "from sklearn.linear_model import LogisticRegression\n",
    "from sklearn.tree import DecisionTreeClassifier\n",
    "from sklearn.preprocessing import FunctionTransformer\n",
    "from sklearn.compose import ColumnTransformer\n",
    "from sklearn.preprocessing import OneHotEncoder\n",
    "from sklearn.preprocessing import MinMaxScaler\n",
    "from sklearn.pipeline import Pipeline,make_pipeline\n",
    "from sklearn.feature_selection import SelectKBest,chi2"
   ]
  },
  {
   "cell_type": "code",
   "execution_count": 12,
   "id": "13997fef-63c8-443e-9e75-3e1509e90f15",
   "metadata": {},
   "outputs": [],
   "source": [
    "df_train = pd.read_csv('imdb_sup.csv')"
   ]
  },
  {
   "cell_type": "code",
   "execution_count": 13,
   "id": "0840744a-c857-40b1-a6f5-d9b49f29c5ea",
   "metadata": {},
   "outputs": [
    {
     "data": {
      "text/html": [
       "<div>\n",
       "<style scoped>\n",
       "    .dataframe tbody tr th:only-of-type {\n",
       "        vertical-align: middle;\n",
       "    }\n",
       "\n",
       "    .dataframe tbody tr th {\n",
       "        vertical-align: top;\n",
       "    }\n",
       "\n",
       "    .dataframe thead th {\n",
       "        text-align: right;\n",
       "    }\n",
       "</style>\n",
       "<table border=\"1\" class=\"dataframe\">\n",
       "  <thead>\n",
       "    <tr style=\"text-align: right;\">\n",
       "      <th></th>\n",
       "      <th>Review</th>\n",
       "      <th>Rating</th>\n",
       "      <th>Sentiment</th>\n",
       "    </tr>\n",
       "  </thead>\n",
       "  <tbody>\n",
       "    <tr>\n",
       "      <th>0</th>\n",
       "      <td>Kurt Russell's chameleon-like performance, coupled with John Carpenter's flawless filmmaking, makes this one, without a doubt, one of the finest boob-tube bios ever aired. It holds up, too: the emotional foundation is strong enough that it'll never age; Carpenter has preserved for posterity the power and ultimate poignancy of the life of the one and only King of Rock and Roll. (I'd been a borderline Elvis fan most of my life, but it wasn't until I saw this mind-blowingly moving movie that I looked BEYOND the image at the man himself. It was quite a revelation.) ELVIS remains one of the top ten made-for-tv movies of all time.</td>\n",
       "      <td>10</td>\n",
       "      <td>1</td>\n",
       "    </tr>\n",
       "    <tr>\n",
       "      <th>1</th>\n",
       "      <td>It was extremely low budget(it some scenes it looks like they recorded with a home video recorder). However it does have a good plot line, and its easy to follow. 8 years after shooting her sexually abusive step father Amanda is released from the psychiatric ward, with the help of her doctor who she is secretly having an affair with. The doctor ends up renting her a house and buying her a car. But within the first 20 minutes of the movie Amanda kills him and buries him in her backyard. Then she see's her neighbor Richard sets eyes on him and stops at nothing until she has him. She acts innocent but after another neighbor Buzz finds out that Amanda killed that doctor and attempted to kill Richards wife Laurie (this is after Amanda and him get it on in the hot tub). Then she stops acting so Innocent and kills Buzz and later on attempts to kill Richard whom she supposedly loves and cares for. And you'll have to rent the movie to find out if Amanda dies or not. Overall good movie, reminds me a lot of my life you know the whole falling for the neighbor and stopping at nothing until you have him part.</td>\n",
       "      <td>8</td>\n",
       "      <td>1</td>\n",
       "    </tr>\n",
       "    <tr>\n",
       "      <th>2</th>\n",
       "      <td>James Cagney is best known for his tough characters- and gangster roles but he has also played quite a lot 'soft' characters in his career. This musical is one of them and it was the first but not the last musical movie Cagney would star in.&lt;br /&gt;&lt;br /&gt;Cagney is even doing a bit of singing in this one and also quite an amount of dancing. And it needs to be said that he was not bad at it. He plays the role with a lot of confidence. He apparently had some dancing jobs in his early life before his acting career started to take off big time, so it actually isn't a weird thing that he also took on some musical acting roles in his career. He obviously also feels at ease in this totally different genre than most people are accustomed to seeing him in.&lt;br /&gt;&lt;br /&gt;The movie is directed by Lloyd Bacon, who was perhaps among the best and most successful director within the genre. His earliest '30's musicals pretty much defined the musical genre and he also was responsible for genre movies such as \"42nd Street\". His musicals were always light and fun to watch and more comedy like than anything else really. '30's musicals never were really about its singing, this was something that more featured in '40's and later made musicals, mainly from the MGM studios.&lt;br /&gt;&lt;br /&gt;As usual it has a light and simple story, set in the musical world, that of course is also predictable and progresses in a formulaic way. It nevertheless is a fun and simple story that also simply makes this an entertaining movies to watch. So do the characters and actors that are portraying them. Sort of weird though that that the total plot line of the movie gets sort of abandoned toward the end of the movie, when the movie only starts to consists out of musical number routines.&lt;br /&gt;&lt;br /&gt;The musical moments toward the ending of the movie are also amusing and well done, even though I'm not a too big fan of the genre itself. Once again the musical numbers also feature a young Billy Barty. he often played little boys/babies/mice and whatever more early on in his career, including the movie musical \"Gold Diggers of 1933\", of one year earlier. &lt;br /&gt;&lt;br /&gt;A recommendable early genre movie.&lt;br /&gt;&lt;br /&gt;8/10</td>\n",
       "      <td>8</td>\n",
       "      <td>1</td>\n",
       "    </tr>\n",
       "    <tr>\n",
       "      <th>3</th>\n",
       "      <td>Following the brilliant \"Goyôkiba\" (aka. \"Hanzo The Razor - Sword Of Justice\", 1972) and its excellent (and even sleazier) sequel \"Goyôkiba: Kamisori Hanzô jigoku zeme\" (aka. \"Razor 2: The Snare\", 1973), this \"Goyôkiba: Oni no Hanzô yawahada koban\" aka. \"Razor 3: Who's Got The Gold\" is the third, and sadly final installment to the awesome saga about the incorruptible Samurai-constable Hanzo 'The Razor' Ittami (brilliantly played by the great Shintarô Katsu), who fights corruption with his fighting expertise as well as his enormous sexual powers. As a big fan of 70s exploitation cinema made in Nippon, \"Sword Of Justice\" became an instant favorite of mine, and I was therefore more than eager to find the sequels, and full of anticipation when I finally stumbled over them recently. While this third \"Hanzo\" film is just not quite as brilliant as its predecessors it is definitely another great piece of cult-cinema that no lover of Japanese exploitation cinema can afford to miss. \"Who's Got The Gold\" is a bit tamer than the two foregoing Hanzo films, but it is just as brilliantly comical and crudely humorous, and immediately starts out fabulously odd: The film begins, when Hanzo's two assistants see a female ghost when fishing. Having always wanted to sleep with a ghost, Hanzo insists that his assistants lead him to the site of the occurrence... If that is not a promising beginning for an awesome film experience, I don't know what is. Shintaro Katsu, one of my personal favorite actors, is once again brilliant in the role of Hanzo, a role that seems to have been written specifically for him. Katsu IS Hanzo, the obstinate and fearless constable, who hates corruption and deliberately insults his superiors, and whose unique interrogation techniques include raping female suspects. The interrogated women than immediately fall for him, due to his sexual powers and enormous penis, which he trains in a rather grotesque routine ritual. I will not give away more about the plot in \"Who's Got The Gold\", but I can assure that it is as cool as it sounds. The supporting performances are also very good, and, as in the predecessors, there are plenty of hilariously eccentric characters. This is sadly the last film in the awesomely sleazy 'Hanzo' series. If they had made 20 sequels more, I would have happily watched them all! The entire Hanzo series is brilliant, and while this third part is a bit inferior compared to its predecessors, it is definitely a must-see for all lovers of cult-cinema! Oh how I wish they had made more sequels!</td>\n",
       "      <td>8</td>\n",
       "      <td>1</td>\n",
       "    </tr>\n",
       "    <tr>\n",
       "      <th>4</th>\n",
       "      <td>One of the last classics of the French New Wave. For direction, cineaste Jean Eustache drew from the simplicity of early-century cinema; for story, Eustache drew on the torments of his own complicated love life. So many things can be said of this film - observationally brilliant; self indulgently overlong; occasionally hilarious; emotionally draining...etc. etc. In my mind, whatever complaints that can be leveled against this film are easily overshadowed by its numerous strengths. Every film student, writer, or simply anyone willing to handle a 3 hour film with no abrupt cuts, no music video overstyling, no soap opera-like plot twists, and no banal dialogue should make it a point to see this movie. Everything is to be admired: the writing (concise, clever, surprisingly funny), acting (everyone, quite simply, is perfect in their respective roles), and, simple direction (the viewer feels like a casual observer within the film) make this film unforgettable. This is undoubtedly a film that stays with you.</td>\n",
       "      <td>10</td>\n",
       "      <td>1</td>\n",
       "    </tr>\n",
       "  </tbody>\n",
       "</table>\n",
       "</div>"
      ],
      "text/plain": [
       "                                                                                                                                                                                                                                                                                                                                                                                                                                                                                                                                                                                                                                                                                                                                                                                                                                                                                                                                                                                                                                                                                                                                                                                                                                                                                                                                                                                                                                                                                                                                                                                                                                                                                                                                                                                                                                                                                                                                                                                                                                                                                                                                                                                                                                                                                                                                                                                                                                                                                                                                                                                                                                                      Review  \\\n",
       "0                                                                                                                                                                                                                                                                                                                                                                                                                                                                                                                                                                                                                                                                                                                                                                                                                                                                                                                                                                                                                                                                                                                                                                                                                                                                                                                                                                                                                                                                                                                                                                                                                                                                                                                                                                                                                                                                                                                                                                                                   Kurt Russell's chameleon-like performance, coupled with John Carpenter's flawless filmmaking, makes this one, without a doubt, one of the finest boob-tube bios ever aired. It holds up, too: the emotional foundation is strong enough that it'll never age; Carpenter has preserved for posterity the power and ultimate poignancy of the life of the one and only King of Rock and Roll. (I'd been a borderline Elvis fan most of my life, but it wasn't until I saw this mind-blowingly moving movie that I looked BEYOND the image at the man himself. It was quite a revelation.) ELVIS remains one of the top ten made-for-tv movies of all time.   \n",
       "1                                                                                                                                                                                                                                                                                                                                                                                                                                                                                                                                                                                                                                                                                                                                                                                                                                                                                                                                                                                                                                                                                                                                                                                                                                                                                                                                                                                                                                                                                                   It was extremely low budget(it some scenes it looks like they recorded with a home video recorder). However it does have a good plot line, and its easy to follow. 8 years after shooting her sexually abusive step father Amanda is released from the psychiatric ward, with the help of her doctor who she is secretly having an affair with. The doctor ends up renting her a house and buying her a car. But within the first 20 minutes of the movie Amanda kills him and buries him in her backyard. Then she see's her neighbor Richard sets eyes on him and stops at nothing until she has him. She acts innocent but after another neighbor Buzz finds out that Amanda killed that doctor and attempted to kill Richards wife Laurie (this is after Amanda and him get it on in the hot tub). Then she stops acting so Innocent and kills Buzz and later on attempts to kill Richard whom she supposedly loves and cares for. And you'll have to rent the movie to find out if Amanda dies or not. Overall good movie, reminds me a lot of my life you know the whole falling for the neighbor and stopping at nothing until you have him part.   \n",
       "2                                                                                                                                                                                                                                                                                                                                                                          James Cagney is best known for his tough characters- and gangster roles but he has also played quite a lot 'soft' characters in his career. This musical is one of them and it was the first but not the last musical movie Cagney would star in.<br /><br />Cagney is even doing a bit of singing in this one and also quite an amount of dancing. And it needs to be said that he was not bad at it. He plays the role with a lot of confidence. He apparently had some dancing jobs in his early life before his acting career started to take off big time, so it actually isn't a weird thing that he also took on some musical acting roles in his career. He obviously also feels at ease in this totally different genre than most people are accustomed to seeing him in.<br /><br />The movie is directed by Lloyd Bacon, who was perhaps among the best and most successful director within the genre. His earliest '30's musicals pretty much defined the musical genre and he also was responsible for genre movies such as \"42nd Street\". His musicals were always light and fun to watch and more comedy like than anything else really. '30's musicals never were really about its singing, this was something that more featured in '40's and later made musicals, mainly from the MGM studios.<br /><br />As usual it has a light and simple story, set in the musical world, that of course is also predictable and progresses in a formulaic way. It nevertheless is a fun and simple story that also simply makes this an entertaining movies to watch. So do the characters and actors that are portraying them. Sort of weird though that that the total plot line of the movie gets sort of abandoned toward the end of the movie, when the movie only starts to consists out of musical number routines.<br /><br />The musical moments toward the ending of the movie are also amusing and well done, even though I'm not a too big fan of the genre itself. Once again the musical numbers also feature a young Billy Barty. he often played little boys/babies/mice and whatever more early on in his career, including the movie musical \"Gold Diggers of 1933\", of one year earlier. <br /><br />A recommendable early genre movie.<br /><br />8/10   \n",
       "3  Following the brilliant \"Goyôkiba\" (aka. \"Hanzo The Razor - Sword Of Justice\", 1972) and its excellent (and even sleazier) sequel \"Goyôkiba: Kamisori Hanzô jigoku zeme\" (aka. \"Razor 2: The Snare\", 1973), this \"Goyôkiba: Oni no Hanzô yawahada koban\" aka. \"Razor 3: Who's Got The Gold\" is the third, and sadly final installment to the awesome saga about the incorruptible Samurai-constable Hanzo 'The Razor' Ittami (brilliantly played by the great Shintarô Katsu), who fights corruption with his fighting expertise as well as his enormous sexual powers. As a big fan of 70s exploitation cinema made in Nippon, \"Sword Of Justice\" became an instant favorite of mine, and I was therefore more than eager to find the sequels, and full of anticipation when I finally stumbled over them recently. While this third \"Hanzo\" film is just not quite as brilliant as its predecessors it is definitely another great piece of cult-cinema that no lover of Japanese exploitation cinema can afford to miss. \"Who's Got The Gold\" is a bit tamer than the two foregoing Hanzo films, but it is just as brilliantly comical and crudely humorous, and immediately starts out fabulously odd: The film begins, when Hanzo's two assistants see a female ghost when fishing. Having always wanted to sleep with a ghost, Hanzo insists that his assistants lead him to the site of the occurrence... If that is not a promising beginning for an awesome film experience, I don't know what is. Shintaro Katsu, one of my personal favorite actors, is once again brilliant in the role of Hanzo, a role that seems to have been written specifically for him. Katsu IS Hanzo, the obstinate and fearless constable, who hates corruption and deliberately insults his superiors, and whose unique interrogation techniques include raping female suspects. The interrogated women than immediately fall for him, due to his sexual powers and enormous penis, which he trains in a rather grotesque routine ritual. I will not give away more about the plot in \"Who's Got The Gold\", but I can assure that it is as cool as it sounds. The supporting performances are also very good, and, as in the predecessors, there are plenty of hilariously eccentric characters. This is sadly the last film in the awesomely sleazy 'Hanzo' series. If they had made 20 sequels more, I would have happily watched them all! The entire Hanzo series is brilliant, and while this third part is a bit inferior compared to its predecessors, it is definitely a must-see for all lovers of cult-cinema! Oh how I wish they had made more sequels!   \n",
       "4                                                                                                                                                                                                                                                                                                                                                                                                                                                                                                                                                                                                                                                                                                                                                                                                                                                                                                                                                                                                                                                                                                                                                                                                                                                                                                                                                                                                                                                                                                                                                                                                   One of the last classics of the French New Wave. For direction, cineaste Jean Eustache drew from the simplicity of early-century cinema; for story, Eustache drew on the torments of his own complicated love life. So many things can be said of this film - observationally brilliant; self indulgently overlong; occasionally hilarious; emotionally draining...etc. etc. In my mind, whatever complaints that can be leveled against this film are easily overshadowed by its numerous strengths. Every film student, writer, or simply anyone willing to handle a 3 hour film with no abrupt cuts, no music video overstyling, no soap opera-like plot twists, and no banal dialogue should make it a point to see this movie. Everything is to be admired: the writing (concise, clever, surprisingly funny), acting (everyone, quite simply, is perfect in their respective roles), and, simple direction (the viewer feels like a casual observer within the film) make this film unforgettable. This is undoubtedly a film that stays with you.   \n",
       "\n",
       "   Rating  Sentiment  \n",
       "0      10          1  \n",
       "1       8          1  \n",
       "2       8          1  \n",
       "3       8          1  \n",
       "4      10          1  "
      ]
     },
     "execution_count": 13,
     "metadata": {},
     "output_type": "execute_result"
    }
   ],
   "source": [
    "df_train.head()"
   ]
  },
  {
   "cell_type": "code",
   "execution_count": 14,
   "id": "2c2817f6-06aa-4f53-9977-ad75325aa15f",
   "metadata": {},
   "outputs": [
    {
     "data": {
      "text/plain": [
       "array([10,  8,  7,  9,  3,  2,  1,  4])"
      ]
     },
     "execution_count": 14,
     "metadata": {},
     "output_type": "execute_result"
    }
   ],
   "source": [
    "df_train['Rating'].unique()"
   ]
  },
  {
   "cell_type": "code",
   "execution_count": 15,
   "id": "7121b0d4-9b29-4ec4-8483-b538dd2f9f2e",
   "metadata": {},
   "outputs": [
    {
     "data": {
      "text/plain": [
       "Sentiment\n",
       "2    20197\n",
       "0    19669\n",
       "1    10134\n",
       "Name: count, dtype: int64"
      ]
     },
     "execution_count": 15,
     "metadata": {},
     "output_type": "execute_result"
    }
   ],
   "source": [
    "# Define the mapping function\n",
    "def map_sentiment(rating):\n",
    "    if rating in [1, 2, 3]:\n",
    "        return 0  # Negative\n",
    "    elif rating in [4, 7]:\n",
    "        return 1  # Neutral\n",
    "    elif rating in [8, 9, 10]:\n",
    "        return 2  # Positive\n",
    "    else:\n",
    "        return None  # Handle unexpected values\n",
    "\n",
    "# Apply the function to the Sentiment column\n",
    "df_train[\"Sentiment\"] = df_train[\"Rating\"].apply(map_sentiment)\n",
    "\n",
    "# Check the updated Sentiment column\n",
    "df_train[\"Sentiment\"].value_counts()\n"
   ]
  },
  {
   "cell_type": "code",
   "execution_count": 16,
   "id": "df572d1e-a691-4712-ab4d-353913ba5f32",
   "metadata": {},
   "outputs": [],
   "source": [
    "df_train.drop(columns=[\"Rating\"], inplace=True)"
   ]
  },
  {
   "cell_type": "code",
   "execution_count": 17,
   "id": "d7abb4b2-db07-4e6d-9959-3d361f1a6ccf",
   "metadata": {},
   "outputs": [
    {
     "data": {
      "text/html": [
       "<div>\n",
       "<style scoped>\n",
       "    .dataframe tbody tr th:only-of-type {\n",
       "        vertical-align: middle;\n",
       "    }\n",
       "\n",
       "    .dataframe tbody tr th {\n",
       "        vertical-align: top;\n",
       "    }\n",
       "\n",
       "    .dataframe thead th {\n",
       "        text-align: right;\n",
       "    }\n",
       "</style>\n",
       "<table border=\"1\" class=\"dataframe\">\n",
       "  <thead>\n",
       "    <tr style=\"text-align: right;\">\n",
       "      <th></th>\n",
       "      <th>Review</th>\n",
       "      <th>Sentiment</th>\n",
       "    </tr>\n",
       "  </thead>\n",
       "  <tbody>\n",
       "    <tr>\n",
       "      <th>0</th>\n",
       "      <td>Kurt Russell's chameleon-like performance, coupled with John Carpenter's flawless filmmaking, makes this one, without a doubt, one of the finest boob-tube bios ever aired. It holds up, too: the emotional foundation is strong enough that it'll never age; Carpenter has preserved for posterity the power and ultimate poignancy of the life of the one and only King of Rock and Roll. (I'd been a borderline Elvis fan most of my life, but it wasn't until I saw this mind-blowingly moving movie that I looked BEYOND the image at the man himself. It was quite a revelation.) ELVIS remains one of the top ten made-for-tv movies of all time.</td>\n",
       "      <td>2</td>\n",
       "    </tr>\n",
       "    <tr>\n",
       "      <th>1</th>\n",
       "      <td>It was extremely low budget(it some scenes it looks like they recorded with a home video recorder). However it does have a good plot line, and its easy to follow. 8 years after shooting her sexually abusive step father Amanda is released from the psychiatric ward, with the help of her doctor who she is secretly having an affair with. The doctor ends up renting her a house and buying her a car. But within the first 20 minutes of the movie Amanda kills him and buries him in her backyard. Then she see's her neighbor Richard sets eyes on him and stops at nothing until she has him. She acts innocent but after another neighbor Buzz finds out that Amanda killed that doctor and attempted to kill Richards wife Laurie (this is after Amanda and him get it on in the hot tub). Then she stops acting so Innocent and kills Buzz and later on attempts to kill Richard whom she supposedly loves and cares for. And you'll have to rent the movie to find out if Amanda dies or not. Overall good movie, reminds me a lot of my life you know the whole falling for the neighbor and stopping at nothing until you have him part.</td>\n",
       "      <td>2</td>\n",
       "    </tr>\n",
       "    <tr>\n",
       "      <th>2</th>\n",
       "      <td>James Cagney is best known for his tough characters- and gangster roles but he has also played quite a lot 'soft' characters in his career. This musical is one of them and it was the first but not the last musical movie Cagney would star in.&lt;br /&gt;&lt;br /&gt;Cagney is even doing a bit of singing in this one and also quite an amount of dancing. And it needs to be said that he was not bad at it. He plays the role with a lot of confidence. He apparently had some dancing jobs in his early life before his acting career started to take off big time, so it actually isn't a weird thing that he also took on some musical acting roles in his career. He obviously also feels at ease in this totally different genre than most people are accustomed to seeing him in.&lt;br /&gt;&lt;br /&gt;The movie is directed by Lloyd Bacon, who was perhaps among the best and most successful director within the genre. His earliest '30's musicals pretty much defined the musical genre and he also was responsible for genre movies such as \"42nd Street\". His musicals were always light and fun to watch and more comedy like than anything else really. '30's musicals never were really about its singing, this was something that more featured in '40's and later made musicals, mainly from the MGM studios.&lt;br /&gt;&lt;br /&gt;As usual it has a light and simple story, set in the musical world, that of course is also predictable and progresses in a formulaic way. It nevertheless is a fun and simple story that also simply makes this an entertaining movies to watch. So do the characters and actors that are portraying them. Sort of weird though that that the total plot line of the movie gets sort of abandoned toward the end of the movie, when the movie only starts to consists out of musical number routines.&lt;br /&gt;&lt;br /&gt;The musical moments toward the ending of the movie are also amusing and well done, even though I'm not a too big fan of the genre itself. Once again the musical numbers also feature a young Billy Barty. he often played little boys/babies/mice and whatever more early on in his career, including the movie musical \"Gold Diggers of 1933\", of one year earlier. &lt;br /&gt;&lt;br /&gt;A recommendable early genre movie.&lt;br /&gt;&lt;br /&gt;8/10</td>\n",
       "      <td>2</td>\n",
       "    </tr>\n",
       "    <tr>\n",
       "      <th>3</th>\n",
       "      <td>Following the brilliant \"Goyôkiba\" (aka. \"Hanzo The Razor - Sword Of Justice\", 1972) and its excellent (and even sleazier) sequel \"Goyôkiba: Kamisori Hanzô jigoku zeme\" (aka. \"Razor 2: The Snare\", 1973), this \"Goyôkiba: Oni no Hanzô yawahada koban\" aka. \"Razor 3: Who's Got The Gold\" is the third, and sadly final installment to the awesome saga about the incorruptible Samurai-constable Hanzo 'The Razor' Ittami (brilliantly played by the great Shintarô Katsu), who fights corruption with his fighting expertise as well as his enormous sexual powers. As a big fan of 70s exploitation cinema made in Nippon, \"Sword Of Justice\" became an instant favorite of mine, and I was therefore more than eager to find the sequels, and full of anticipation when I finally stumbled over them recently. While this third \"Hanzo\" film is just not quite as brilliant as its predecessors it is definitely another great piece of cult-cinema that no lover of Japanese exploitation cinema can afford to miss. \"Who's Got The Gold\" is a bit tamer than the two foregoing Hanzo films, but it is just as brilliantly comical and crudely humorous, and immediately starts out fabulously odd: The film begins, when Hanzo's two assistants see a female ghost when fishing. Having always wanted to sleep with a ghost, Hanzo insists that his assistants lead him to the site of the occurrence... If that is not a promising beginning for an awesome film experience, I don't know what is. Shintaro Katsu, one of my personal favorite actors, is once again brilliant in the role of Hanzo, a role that seems to have been written specifically for him. Katsu IS Hanzo, the obstinate and fearless constable, who hates corruption and deliberately insults his superiors, and whose unique interrogation techniques include raping female suspects. The interrogated women than immediately fall for him, due to his sexual powers and enormous penis, which he trains in a rather grotesque routine ritual. I will not give away more about the plot in \"Who's Got The Gold\", but I can assure that it is as cool as it sounds. The supporting performances are also very good, and, as in the predecessors, there are plenty of hilariously eccentric characters. This is sadly the last film in the awesomely sleazy 'Hanzo' series. If they had made 20 sequels more, I would have happily watched them all! The entire Hanzo series is brilliant, and while this third part is a bit inferior compared to its predecessors, it is definitely a must-see for all lovers of cult-cinema! Oh how I wish they had made more sequels!</td>\n",
       "      <td>2</td>\n",
       "    </tr>\n",
       "    <tr>\n",
       "      <th>4</th>\n",
       "      <td>One of the last classics of the French New Wave. For direction, cineaste Jean Eustache drew from the simplicity of early-century cinema; for story, Eustache drew on the torments of his own complicated love life. So many things can be said of this film - observationally brilliant; self indulgently overlong; occasionally hilarious; emotionally draining...etc. etc. In my mind, whatever complaints that can be leveled against this film are easily overshadowed by its numerous strengths. Every film student, writer, or simply anyone willing to handle a 3 hour film with no abrupt cuts, no music video overstyling, no soap opera-like plot twists, and no banal dialogue should make it a point to see this movie. Everything is to be admired: the writing (concise, clever, surprisingly funny), acting (everyone, quite simply, is perfect in their respective roles), and, simple direction (the viewer feels like a casual observer within the film) make this film unforgettable. This is undoubtedly a film that stays with you.</td>\n",
       "      <td>2</td>\n",
       "    </tr>\n",
       "  </tbody>\n",
       "</table>\n",
       "</div>"
      ],
      "text/plain": [
       "                                                                                                                                                                                                                                                                                                                                                                                                                                                                                                                                                                                                                                                                                                                                                                                                                                                                                                                                                                                                                                                                                                                                                                                                                                                                                                                                                                                                                                                                                                                                                                                                                                                                                                                                                                                                                                                                                                                                                                                                                                                                                                                                                                                                                                                                                                                                                                                                                                                                                                                                                                                                                                                      Review  \\\n",
       "0                                                                                                                                                                                                                                                                                                                                                                                                                                                                                                                                                                                                                                                                                                                                                                                                                                                                                                                                                                                                                                                                                                                                                                                                                                                                                                                                                                                                                                                                                                                                                                                                                                                                                                                                                                                                                                                                                                                                                                                                   Kurt Russell's chameleon-like performance, coupled with John Carpenter's flawless filmmaking, makes this one, without a doubt, one of the finest boob-tube bios ever aired. It holds up, too: the emotional foundation is strong enough that it'll never age; Carpenter has preserved for posterity the power and ultimate poignancy of the life of the one and only King of Rock and Roll. (I'd been a borderline Elvis fan most of my life, but it wasn't until I saw this mind-blowingly moving movie that I looked BEYOND the image at the man himself. It was quite a revelation.) ELVIS remains one of the top ten made-for-tv movies of all time.   \n",
       "1                                                                                                                                                                                                                                                                                                                                                                                                                                                                                                                                                                                                                                                                                                                                                                                                                                                                                                                                                                                                                                                                                                                                                                                                                                                                                                                                                                                                                                                                                                   It was extremely low budget(it some scenes it looks like they recorded with a home video recorder). However it does have a good plot line, and its easy to follow. 8 years after shooting her sexually abusive step father Amanda is released from the psychiatric ward, with the help of her doctor who she is secretly having an affair with. The doctor ends up renting her a house and buying her a car. But within the first 20 minutes of the movie Amanda kills him and buries him in her backyard. Then she see's her neighbor Richard sets eyes on him and stops at nothing until she has him. She acts innocent but after another neighbor Buzz finds out that Amanda killed that doctor and attempted to kill Richards wife Laurie (this is after Amanda and him get it on in the hot tub). Then she stops acting so Innocent and kills Buzz and later on attempts to kill Richard whom she supposedly loves and cares for. And you'll have to rent the movie to find out if Amanda dies or not. Overall good movie, reminds me a lot of my life you know the whole falling for the neighbor and stopping at nothing until you have him part.   \n",
       "2                                                                                                                                                                                                                                                                                                                                                                          James Cagney is best known for his tough characters- and gangster roles but he has also played quite a lot 'soft' characters in his career. This musical is one of them and it was the first but not the last musical movie Cagney would star in.<br /><br />Cagney is even doing a bit of singing in this one and also quite an amount of dancing. And it needs to be said that he was not bad at it. He plays the role with a lot of confidence. He apparently had some dancing jobs in his early life before his acting career started to take off big time, so it actually isn't a weird thing that he also took on some musical acting roles in his career. He obviously also feels at ease in this totally different genre than most people are accustomed to seeing him in.<br /><br />The movie is directed by Lloyd Bacon, who was perhaps among the best and most successful director within the genre. His earliest '30's musicals pretty much defined the musical genre and he also was responsible for genre movies such as \"42nd Street\". His musicals were always light and fun to watch and more comedy like than anything else really. '30's musicals never were really about its singing, this was something that more featured in '40's and later made musicals, mainly from the MGM studios.<br /><br />As usual it has a light and simple story, set in the musical world, that of course is also predictable and progresses in a formulaic way. It nevertheless is a fun and simple story that also simply makes this an entertaining movies to watch. So do the characters and actors that are portraying them. Sort of weird though that that the total plot line of the movie gets sort of abandoned toward the end of the movie, when the movie only starts to consists out of musical number routines.<br /><br />The musical moments toward the ending of the movie are also amusing and well done, even though I'm not a too big fan of the genre itself. Once again the musical numbers also feature a young Billy Barty. he often played little boys/babies/mice and whatever more early on in his career, including the movie musical \"Gold Diggers of 1933\", of one year earlier. <br /><br />A recommendable early genre movie.<br /><br />8/10   \n",
       "3  Following the brilliant \"Goyôkiba\" (aka. \"Hanzo The Razor - Sword Of Justice\", 1972) and its excellent (and even sleazier) sequel \"Goyôkiba: Kamisori Hanzô jigoku zeme\" (aka. \"Razor 2: The Snare\", 1973), this \"Goyôkiba: Oni no Hanzô yawahada koban\" aka. \"Razor 3: Who's Got The Gold\" is the third, and sadly final installment to the awesome saga about the incorruptible Samurai-constable Hanzo 'The Razor' Ittami (brilliantly played by the great Shintarô Katsu), who fights corruption with his fighting expertise as well as his enormous sexual powers. As a big fan of 70s exploitation cinema made in Nippon, \"Sword Of Justice\" became an instant favorite of mine, and I was therefore more than eager to find the sequels, and full of anticipation when I finally stumbled over them recently. While this third \"Hanzo\" film is just not quite as brilliant as its predecessors it is definitely another great piece of cult-cinema that no lover of Japanese exploitation cinema can afford to miss. \"Who's Got The Gold\" is a bit tamer than the two foregoing Hanzo films, but it is just as brilliantly comical and crudely humorous, and immediately starts out fabulously odd: The film begins, when Hanzo's two assistants see a female ghost when fishing. Having always wanted to sleep with a ghost, Hanzo insists that his assistants lead him to the site of the occurrence... If that is not a promising beginning for an awesome film experience, I don't know what is. Shintaro Katsu, one of my personal favorite actors, is once again brilliant in the role of Hanzo, a role that seems to have been written specifically for him. Katsu IS Hanzo, the obstinate and fearless constable, who hates corruption and deliberately insults his superiors, and whose unique interrogation techniques include raping female suspects. The interrogated women than immediately fall for him, due to his sexual powers and enormous penis, which he trains in a rather grotesque routine ritual. I will not give away more about the plot in \"Who's Got The Gold\", but I can assure that it is as cool as it sounds. The supporting performances are also very good, and, as in the predecessors, there are plenty of hilariously eccentric characters. This is sadly the last film in the awesomely sleazy 'Hanzo' series. If they had made 20 sequels more, I would have happily watched them all! The entire Hanzo series is brilliant, and while this third part is a bit inferior compared to its predecessors, it is definitely a must-see for all lovers of cult-cinema! Oh how I wish they had made more sequels!   \n",
       "4                                                                                                                                                                                                                                                                                                                                                                                                                                                                                                                                                                                                                                                                                                                                                                                                                                                                                                                                                                                                                                                                                                                                                                                                                                                                                                                                                                                                                                                                                                                                                                                                   One of the last classics of the French New Wave. For direction, cineaste Jean Eustache drew from the simplicity of early-century cinema; for story, Eustache drew on the torments of his own complicated love life. So many things can be said of this film - observationally brilliant; self indulgently overlong; occasionally hilarious; emotionally draining...etc. etc. In my mind, whatever complaints that can be leveled against this film are easily overshadowed by its numerous strengths. Every film student, writer, or simply anyone willing to handle a 3 hour film with no abrupt cuts, no music video overstyling, no soap opera-like plot twists, and no banal dialogue should make it a point to see this movie. Everything is to be admired: the writing (concise, clever, surprisingly funny), acting (everyone, quite simply, is perfect in their respective roles), and, simple direction (the viewer feels like a casual observer within the film) make this film unforgettable. This is undoubtedly a film that stays with you.   \n",
       "\n",
       "   Sentiment  \n",
       "0          2  \n",
       "1          2  \n",
       "2          2  \n",
       "3          2  \n",
       "4          2  "
      ]
     },
     "execution_count": 17,
     "metadata": {},
     "output_type": "execute_result"
    }
   ],
   "source": [
    "df_train.head()"
   ]
  },
  {
   "cell_type": "code",
   "execution_count": 18,
   "id": "7d22c96f-13aa-490f-a37f-cc0deaccaa2d",
   "metadata": {},
   "outputs": [
    {
     "data": {
      "text/plain": [
       "Sentiment\n",
       "2    20197\n",
       "0    19669\n",
       "1    10134\n",
       "Name: count, dtype: int64"
      ]
     },
     "execution_count": 18,
     "metadata": {},
     "output_type": "execute_result"
    }
   ],
   "source": [
    "df_train[\"Sentiment\"].value_counts()\n"
   ]
  },
  {
   "cell_type": "code",
   "execution_count": 19,
   "id": "6b344c66-bcd3-4763-ad48-55c9556a2ce0",
   "metadata": {},
   "outputs": [
    {
     "name": "stdout",
     "output_type": "stream",
     "text": [
      "                                                                                                                                                                                                                                                                                                                                                                                                                                                                                                                                                                                                                                                                                                                                                                                                                                                                                                                                                                                                                                                                                                                                                                                                                                                                                                                                                                                                                                                                                                                                                                                                                                                                                                                                                                                                                                                                                                                                                                                                                                                                                                                                                                                                                                                                                                                                                                                                                                                                                                  Review  \\\n",
      "7                                                                                                                                                                                                                                                                                                                                                                                                                                                                                                                                                                                                                                                                                                                                                                                                                                                                                                                                                                                                                                                                                                                                                                                                                                                                                                                                                                                                                                                                                                                                                                                                                                                                                                                                                         Four teenage girlfriends drive to Fort Laurdale for spring break.Unfortunately they get a flat tire in Medley,Georgia and one of the girls witnesses a brutal murder deep in the woods.The local sheriff is behind the crime and the nightmare begins...\"Shallow Grave\" is a pleasant low-budget surprise.The cast is likable enough,the direction is steady and the violence is particularly nasty and misogynistic.Especially the second murder is pretty grim.The murderous sheriff isn't one-dimensional character-in a couple of scenes it seems that he feels remorse for what he's done.The subplot involving the two boys they meet in the diner goes nowhere,but the stalking scenes in the woods are tense and exciting.7 out of 10.   \n",
      "9                                                                                                                                                                                                                                                                                                                                                                                                                                                                                                                                                                                                                                                                                                                                                                                                                                                                                                                      What's in a name? If the name is Jerry Bruckheimer expect it to be filled with action.<br /><br />In producer Bruckheimer's latest film, Gone in 60 Seconds, its all about the nomenclature. With character monikers like Kip, Sway and The Sphinx and cars idealized with names like Diane, Sue and the elusive Eleanor, it's only the non-stop action that keeps you from wanting to just play the name game.<br /><br />Not a deep script by any means, but it is a great vehicle for action as Nicolas Cage as Memphis Raines, along with Angelina Jolie and Robert Duvall, comes out of car-thievery retirement to save his brother's life by stealing a list of 50 exotic cars in one night. A remake of the 1974 cult hit, this film may not be destined for the same cult status but it is entertaining.<br /><br />Surprisingly, it's the action that keeps you watching not the acting. Although loaded with stars, none of them have standout performances, including a very weak performance by one of my favorite up and comers, Giovanni Ribisi. Even Jolie, coming off her recent Oscar win, is just a token love interest with hardly any screen time.<br /><br />Can a series of beautiful cars and the car chases they become involved in make a great film? I think so. The film is a pleasure to look at and although one particular scene takes you into the realm of unbelieveablity, the action is non-stop and the suspense is compelling. Just be wary of other drivers fighting for a pole position as you leave the theatre.<br /><br />3 1/2 out of 5   \n",
      "10                                                                                                                                                                                                                                                                                                                                                                                                                                                                     Batman: Mystery of the Batwoman is the latest animated Batman straight to video/DVD movie to be released. (Minor Spoilers Ahead) The plot revolves around a new crimefighter, the Batwoman, who seems to be personally involved, for whatever reason, in stopping a major arms shipment.<br /><br />Although the movie is interesting enough, it's not as good as 'Mask of the Phantasm,' 'Sub-Zero,' or 'Return of the Joker.' The main reason being is that it doesn't give off the emotional appeal the other movies did. At the end of this movie, we don't really feel sorry for anyone as we did in the others, especially, 'Sub-Zero.' There is no real tragedy that made the other animated movies special for us. Even the Batwoman is not really a 'tragic' character (as Mr. Freeze or Phantasm were). Not only that, but Batwoman's alter ego seems so incredibly 'stiff' and dull that the viewer doesn't really care what happened to her that caused her to put on the mask or what happens to her at the end and therein lies the main reason we don't get this special emotional appeal.<br /><br />Don't get me wrong, I did find the movie enjoyable. It does have its moments, such as, when the audience finds out who Batwoman really is and seeing an old villain return who was last seen in the original 'Batman: The Animated Series.' The action is also very enjoyable with some very suspenseful moments.<br /><br />If the Batwoman's background was more interesting, this movie would have been better than 'Return of the Joker' in my book, but as it is now, it's in 4th (out of 4).<br /><br />As for the animation, it's the same as The New Batman Adventures' cartoon from the mid to late 1990's. The score is not as memorable as the previous 3 animated Batman films, but it's still good nonetheless.<br /><br />I do recommend buying this DVD because, despite its flaws, it is enjoyable. But just remember, it's not as good as the other Batman animated movies.<br /><br />7/10   \n",
      "14  What does the Marquis de Sade have to do with Egyptian archaeology and mermaid worshipping cults? Tobe Hooper tries to answer that question in one weird little film.<br /><br />Genie is a young cutie who visits her nerdy archaeology father in Alexandria, Egypt. Genie gets caught up with a mysterious hooker (and blatant lesbian) who services daddy on the side. Daddy gets sent back to the site, where he uncovers a tomb with what appears to be a mermaid on it. Genie meets a descendant of the Marquis de Sade, and falls for a hunky Egyptian (providing the film's hottest scenes). Eventually, Genie finds out she is to be a sacrifice and the protracted and bloody climax gets going. Wrapped around this story is footage of the Marquis de Sade in prison, talking to a portrait of what looks like Genie.<br /><br />Robert Englund is terrific as both the Marquis and his descendant. His acting abilities have always been sideswiped by his makeup requirements, so he is allowed to shine here. His best performance is still in \"Killer Tongue,\" if you have not seen that yet.<br /><br />The rest of the cast, including young Genie, are pretty and average. The script, however, is problematic. You will quickly learn that the Marquis scenes are completely unnecessary, except maybe the film makers had access to the cool set. The mermaid cult that eventually saves Genie makes no sense whatsoever. Who the mermaid is is never explained, and its link to Christianity (which is hyped throughout the film) is nothing. The film is very anti-Christian, as the archaeologist is a Bible spouting father, but likes to be tied up by the local prostitute. There are plenty of scenes of depravity and violence, but Hooper probably had little idea of what the screenwriters were trying to say. I know I have no idea.<br /><br />So why am I recommending this film? It is weird. There is an extended sex scene. For the ladies, hunky Egyptian rides a horse completely nude. Englund is marvelous. Do you like snakes? This film is full of them. This is like Roger Corman with a bigger budget. Knowing Hooper somehow came up with \"Crocodile\" after this is rather sad. \"Night Terrors\" is not perfect, but definitely worth a winking, unserious look.<br /><br />This is rated (R) for physical violence, some sexual violence, gore, profanity, female nudity, male nudity, sexual content, sexual references, and drug abuse.<br /><br />   \n",
      "19                                                                                                                                                                                                                                                                                                                                                                                                                                                                                                                                                                                                                                                                                                                                                                                     I love occult Horror, and the great British Hammer Studios, who delivered one of their greatest films with \"The Devil Rides Out\" (1968), have proved to be more than capable in this field of Horror. This occult tenth episode of Hammer's short running TV-series \"Hammer House of Horror\" (1980), \"Guardian of the Abyss\", is indeed a creepy entry to the series. Director Don Sharp, who had previously enriched the Hammer oeuvre with \"The Kiss of the Vampire\" (1963) and \"Rasputin: The Mad Monk\" (1966) and furthermore directed two \"Fu Machu\" movies starring Christopher Lee, is doubtlessly one of the better-known names among the HHH directors, and he also delivers here. Antiques dealer Michael (Ray Lonnen) stumbles over a mysterious old scrying glass. The scrying glass happens to be the object of desire of a devil-worshiping cult, who want to use it for their satanic rites. When he shelters a beautiful young girl named Allison (Rosalyn Landor), who is to be sacrificed by the cult, Michael gets into deeper trouble with the cult and their sinister leader (John Carson)... While this is not one of my absolute favorite episodes of \"Hammer House of Horror\" (the best one clearly is the brilliant seventh episode, \"The Silent Scream\"), it is a very creepy and atmospheric one. The plot has several interesting twists, and stays suspenseful and uncanny throughout the film. Ray Lonnen makes a good lead, young Rosalyin Landor is convincing as the innocent beauty, and John Carson is truly creepy as the leader of the Satanists. Overall, \"Guardian of the Abyss\" is another interesting and creepy HHH tale, and my fellow Hammer fans should not miss it.   \n",
      "\n",
      "    Sentiment  \n",
      "7           1  \n",
      "9           1  \n",
      "10          1  \n",
      "14          1  \n",
      "19          1  \n"
     ]
    }
   ],
   "source": [
    "# Set Pandas to display full text\n",
    "pd.set_option(\"display.max_colwidth\", None)\n",
    "\n",
    "# Get 5 neutral reviews\n",
    "neutral_reviews = df_train[df_train[\"Sentiment\"] == 1].head(5)\n",
    "\n",
    "# Display full reviews\n",
    "print(neutral_reviews)\n"
   ]
  },
  {
   "cell_type": "code",
   "execution_count": 20,
   "id": "3e2952d3-250e-4dd1-9555-ac80d06b0b76",
   "metadata": {},
   "outputs": [
    {
     "name": "stderr",
     "output_type": "stream",
     "text": [
      "C:\\Users\\BIT\\AppData\\Roaming\\Python\\Python311\\site-packages\\keras\\src\\layers\\core\\embedding.py:90: UserWarning: Argument `input_length` is deprecated. Just remove it.\n",
      "  warnings.warn(\n"
     ]
    },
    {
     "name": "stdout",
     "output_type": "stream",
     "text": [
      "Epoch 1/5\n",
      "\u001b[1m1250/1250\u001b[0m \u001b[32m━━━━━━━━━━━━━━━━━━━━\u001b[0m\u001b[37m\u001b[0m \u001b[1m248s\u001b[0m 196ms/step - accuracy: 0.6038 - loss: 0.8601 - val_accuracy: 0.6768 - val_loss: 0.7579\n",
      "Epoch 2/5\n",
      "\u001b[1m1250/1250\u001b[0m \u001b[32m━━━━━━━━━━━━━━━━━━━━\u001b[0m\u001b[37m\u001b[0m \u001b[1m255s\u001b[0m 191ms/step - accuracy: 0.7082 - loss: 0.7077 - val_accuracy: 0.7370 - val_loss: 0.6569\n",
      "Epoch 3/5\n",
      "\u001b[1m1250/1250\u001b[0m \u001b[32m━━━━━━━━━━━━━━━━━━━━\u001b[0m\u001b[37m\u001b[0m \u001b[1m246s\u001b[0m 196ms/step - accuracy: 0.7611 - loss: 0.6007 - val_accuracy: 0.7170 - val_loss: 0.7159\n",
      "Epoch 4/5\n",
      "\u001b[1m1250/1250\u001b[0m \u001b[32m━━━━━━━━━━━━━━━━━━━━\u001b[0m\u001b[37m\u001b[0m \u001b[1m250s\u001b[0m 200ms/step - accuracy: 0.7712 - loss: 0.5684 - val_accuracy: 0.7320 - val_loss: 0.6474\n",
      "Epoch 5/5\n",
      "\u001b[1m1250/1250\u001b[0m \u001b[32m━━━━━━━━━━━━━━━━━━━━\u001b[0m\u001b[37m\u001b[0m \u001b[1m252s\u001b[0m 202ms/step - accuracy: 0.8064 - loss: 0.4925 - val_accuracy: 0.7496 - val_loss: 0.6437\n",
      "\u001b[1m313/313\u001b[0m \u001b[32m━━━━━━━━━━━━━━━━━━━━\u001b[0m\u001b[37m\u001b[0m \u001b[1m23s\u001b[0m 75ms/step - accuracy: 0.7450 - loss: 0.6539\n"
     ]
    },
    {
     "name": "stderr",
     "output_type": "stream",
     "text": [
      "WARNING:absl:You are saving your model as an HDF5 file via `model.save()` or `keras.saving.save_model(model)`. This file format is considered legacy. We recommend using instead the native Keras format, e.g. `model.save('my_model.keras')` or `keras.saving.save_model(model, 'my_model.keras')`. \n"
     ]
    },
    {
     "name": "stdout",
     "output_type": "stream",
     "text": [
      "Test Accuracy: 0.7496\n"
     ]
    },
    {
     "name": "stderr",
     "output_type": "stream",
     "text": [
      "WARNING:absl:Compiled the loaded model, but the compiled metrics have yet to be built. `model.compile_metrics` will be empty until you train or evaluate the model.\n"
     ]
    },
    {
     "name": "stdout",
     "output_type": "stream",
     "text": [
      "Model, tokenizer, and label encoder saved successfully!\n",
      "Model, tokenizer, and label encoder loaded successfully!\n"
     ]
    },
    {
     "name": "stdin",
     "output_type": "stream",
     "text": [
      "\n",
      "Enter a movie review (or type 'exit' to quit):  harry potter was a bad movie. I hated the ending\n"
     ]
    },
    {
     "name": "stdout",
     "output_type": "stream",
     "text": [
      "\u001b[1m1/1\u001b[0m \u001b[32m━━━━━━━━━━━━━━━━━━━━\u001b[0m\u001b[37m\u001b[0m \u001b[1m0s\u001b[0m 412ms/step\n",
      "Predicted Sentiment: 0\n"
     ]
    },
    {
     "name": "stdin",
     "output_type": "stream",
     "text": [
      "\n",
      "Enter a movie review (or type 'exit' to quit):  i did not like avatar because it included lot of violence\n"
     ]
    },
    {
     "name": "stdout",
     "output_type": "stream",
     "text": [
      "\u001b[1m1/1\u001b[0m \u001b[32m━━━━━━━━━━━━━━━━━━━━\u001b[0m\u001b[37m\u001b[0m \u001b[1m0s\u001b[0m 66ms/step\n",
      "Predicted Sentiment: 1\n"
     ]
    },
    {
     "name": "stdin",
     "output_type": "stream",
     "text": [
      "\n",
      "Enter a movie review (or type 'exit' to quit):  I liked the movie airbender very much it had a pinch of nostalgia and screen play was very good\n"
     ]
    },
    {
     "name": "stdout",
     "output_type": "stream",
     "text": [
      "\u001b[1m1/1\u001b[0m \u001b[32m━━━━━━━━━━━━━━━━━━━━\u001b[0m\u001b[37m\u001b[0m \u001b[1m0s\u001b[0m 69ms/step\n",
      "Predicted Sentiment: 1\n"
     ]
    },
    {
     "name": "stdin",
     "output_type": "stream",
     "text": [
      "\n",
      "Enter a movie review (or type 'exit' to quit):  I liked the movie it was good\n"
     ]
    },
    {
     "name": "stdout",
     "output_type": "stream",
     "text": [
      "\u001b[1m1/1\u001b[0m \u001b[32m━━━━━━━━━━━━━━━━━━━━\u001b[0m\u001b[37m\u001b[0m \u001b[1m0s\u001b[0m 73ms/step\n",
      "Predicted Sentiment: 1\n"
     ]
    },
    {
     "name": "stdin",
     "output_type": "stream",
     "text": [
      "\n",
      "Enter a movie review (or type 'exit' to quit):  good movie\n"
     ]
    },
    {
     "name": "stdout",
     "output_type": "stream",
     "text": [
      "\u001b[1m1/1\u001b[0m \u001b[32m━━━━━━━━━━━━━━━━━━━━\u001b[0m\u001b[37m\u001b[0m \u001b[1m0s\u001b[0m 64ms/step\n",
      "Predicted Sentiment: 0\n"
     ]
    },
    {
     "name": "stdin",
     "output_type": "stream",
     "text": [
      "\n",
      "Enter a movie review (or type 'exit' to quit):  it was a good movie\n"
     ]
    },
    {
     "name": "stdout",
     "output_type": "stream",
     "text": [
      "\u001b[1m1/1\u001b[0m \u001b[32m━━━━━━━━━━━━━━━━━━━━\u001b[0m\u001b[37m\u001b[0m \u001b[1m0s\u001b[0m 63ms/step\n",
      "Predicted Sentiment: 1\n"
     ]
    },
    {
     "name": "stdin",
     "output_type": "stream",
     "text": [
      "\n",
      "Enter a movie review (or type 'exit' to quit):  It was a very good movie i liked it\n"
     ]
    },
    {
     "name": "stdout",
     "output_type": "stream",
     "text": [
      "\u001b[1m1/1\u001b[0m \u001b[32m━━━━━━━━━━━━━━━━━━━━\u001b[0m\u001b[37m\u001b[0m \u001b[1m0s\u001b[0m 65ms/step\n",
      "Predicted Sentiment: 2\n"
     ]
    },
    {
     "name": "stdin",
     "output_type": "stream",
     "text": [
      "\n",
      "Enter a movie review (or type 'exit' to quit):  exit\n"
     ]
    }
   ],
   "source": [
    "import pandas as pd\n",
    "import numpy as np\n",
    "import tensorflow as tf\n",
    "import pickle  # To save and load tokenizer and label encoder\n",
    "from tensorflow.keras.preprocessing.text import Tokenizer\n",
    "from tensorflow.keras.preprocessing.sequence import pad_sequences\n",
    "from tensorflow.keras.models import Sequential, load_model\n",
    "from tensorflow.keras.layers import Embedding, LSTM, Dense, Dropout\n",
    "from sklearn.model_selection import train_test_split\n",
    "from sklearn.preprocessing import LabelEncoder\n",
    "from tensorflow.keras.utils import to_categorical\n",
    "\n",
    "# Load dataset\n",
    "df = df_train  # Ensure dataset is loaded\n",
    "\n",
    "# Step 1: Data Cleaning (Ensure text is cleaned)\n",
    "df[\"Review\"] = df[\"Review\"].astype(str).str.lower()\n",
    "\n",
    "# Step 2: Convert Sentiments to Categories (One-Hot Encoding)\n",
    "label_encoder = LabelEncoder()\n",
    "df[\"Sentiment\"] = label_encoder.fit_transform(df[\"Sentiment\"])  # 0, 1, 2\n",
    "\n",
    "# Step 3: Tokenization and Padding\n",
    "MAX_WORDS = 5000  # Vocabulary size\n",
    "MAX_LEN = 200  # Max length of review\n",
    "\n",
    "tokenizer = Tokenizer(num_words=MAX_WORDS, oov_token=\"<OOV>\")\n",
    "tokenizer.fit_on_texts(df[\"Review\"])\n",
    "\n",
    "X = tokenizer.texts_to_sequences(df[\"Review\"])\n",
    "X = pad_sequences(X, maxlen=MAX_LEN)\n",
    "\n",
    "y = to_categorical(df[\"Sentiment\"], num_classes=3)  # Convert labels to categorical\n",
    "\n",
    "# Step 4: Train-Test Split\n",
    "X_train, X_test, y_train, y_test = train_test_split(X, y, test_size=0.2, random_state=42)\n",
    "\n",
    "# Step 5: Build LSTM Model\n",
    "model = Sequential([\n",
    "    Embedding(MAX_WORDS, 128, input_length=MAX_LEN),\n",
    "    LSTM(128, return_sequences=True),\n",
    "    Dropout(0.3),\n",
    "    LSTM(64),\n",
    "    Dropout(0.3),\n",
    "    Dense(3, activation=\"softmax\")  # 3 classes (Negative, Neutral, Positive)\n",
    "])\n",
    "\n",
    "# Compile the model\n",
    "model.compile(loss=\"categorical_crossentropy\", optimizer=\"adam\", metrics=[\"accuracy\"])\n",
    "\n",
    "# Step 6: Train the Model\n",
    "history = model.fit(X_train, y_train, epochs=5, batch_size=32, validation_data=(X_test, y_test))\n",
    "\n",
    "# Step 7: Evaluate the Model\n",
    "test_loss, test_acc = model.evaluate(X_test, y_test)\n",
    "print(f\"Test Accuracy: {test_acc:.4f}\")\n",
    "\n",
    "# ---- SAVE MODEL, TOKENIZER & LABEL ENCODER ----\n",
    "model.save(\"sentiment_model.h5\")\n",
    "with open(\"tokenizer.pkl\", \"wb\") as handle:\n",
    "    pickle.dump(tokenizer, handle)\n",
    "with open(\"label_encoder.pkl\", \"wb\") as handle:\n",
    "    pickle.dump(label_encoder, handle)\n",
    "print(\"Model, tokenizer, and label encoder saved successfully!\")\n",
    "\n",
    "# ---- LOAD MODEL, TOKENIZER & LABEL ENCODER ----\n",
    "model = load_model(\"sentiment_model.h5\")\n",
    "with open(\"tokenizer.pkl\", \"rb\") as handle:\n",
    "    tokenizer = pickle.load(handle)\n",
    "with open(\"label_encoder.pkl\", \"rb\") as handle:\n",
    "    label_encoder = pickle.load(handle)\n",
    "print(\"Model, tokenizer, and label encoder loaded successfully!\")\n",
    "\n",
    "# ---- FUNCTION TO TAKE USER INPUT & PREDICT ----\n",
    "def predict_sentiment(user_input):\n",
    "    user_input = user_input.lower()\n",
    "    sequence = tokenizer.texts_to_sequences([user_input])\n",
    "    padded_sequence = pad_sequences(sequence, maxlen=MAX_LEN)\n",
    "    prediction = model.predict(padded_sequence)\n",
    "    predicted_label = np.argmax(prediction)\n",
    "    sentiment = label_encoder.inverse_transform([predicted_label])\n",
    "    return sentiment[0]\n",
    "\n",
    "# ---- USER INPUT LOOP ----\n",
    "while True:\n",
    "    user_review = input(\"\\nEnter a movie review (or type 'exit' to quit): \")\n",
    "    if user_review.lower() == \"exit\":\n",
    "        break\n",
    "    sentiment = predict_sentiment(user_review)\n",
    "    print(f\"Predicted Sentiment: {sentiment}\")\n"
   ]
  }
 ],
 "metadata": {
  "kernelspec": {
   "display_name": "Python 3 (ipykernel)",
   "language": "python",
   "name": "python3"
  },
  "language_info": {
   "codemirror_mode": {
    "name": "ipython",
    "version": 3
   },
   "file_extension": ".py",
   "mimetype": "text/x-python",
   "name": "python",
   "nbconvert_exporter": "python",
   "pygments_lexer": "ipython3",
   "version": "3.11.9"
  }
 },
 "nbformat": 4,
 "nbformat_minor": 5
}
